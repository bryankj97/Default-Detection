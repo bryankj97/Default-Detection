{
  "nbformat": 4,
  "nbformat_minor": 0,
  "metadata": {
    "colab": {
      "name": "BT2101 disrudy ",
      "provenance": [],
      "collapsed_sections": []
    },
    "kernelspec": {
      "name": "python3",
      "display_name": "Python 3"
    }
  },
  "cells": [
    {
      "cell_type": "markdown",
      "metadata": {
        "id": "-4Rm0wjQMUHi",
        "colab_type": "text"
      },
      "source": [
        "# BT2101 DISRUDY GROUP PROJECT\n",
        "\n",
        "---\n",
        "\n",
        "\n",
        "\n",
        "## Table of Contents\n",
        "1. Problem Description (Brief Write Up)\n",
        "2. Exploratory Data Analysis (EDA)\n",
        "3. Data Pre-processing\n",
        "4. Model Selection\n",
        "5. Evaluation\n",
        "6. Discussion and Possible Improvements\n",
        "\n",
        "## 1. Problem Description\n",
        "\n",
        "The data set we will be working on contains payment information of 30,000 credit card holders obtained from a bank in Taiwan. \n",
        "\n",
        "Each data sample is described by 23 feature attributes and a binary target feature (default or not) valued 0 (= not default) or 1 (= default). \n",
        "\n",
        "The 23 explanatory attributes are:\n",
        "\n",
        "### X1 - X5: Indivual attributes of customer\n",
        "\n",
        "X1: Amount of the given credit (NT dollar): it includes both the individual consumer credit and his/her family (supplementary) credit. \n",
        "\n",
        "X2: Gender (1 = male; 2 = female). \n",
        "\n",
        "X3: Education (1 = graduate school; 2 = university; 3 = high school; 4 = others). \n",
        "\n",
        "X4: Marital status (1 = married; 2 = single; 3 = others). \n",
        "\n",
        "X5: Age (year). \n",
        "\n",
        "### X6 - X11: Repayment history from April to Septemeber 2005\n",
        "The measurement scale for the repayment status is: -1 = pay duly; 1 = payment delay for one month; 2 = payment delay for two months, . . . 8 = payment delay for eight months; 9 = payment delay for nine months and above.\n",
        "\n",
        "\n",
        "X6 = the repayment status in September, 2005\n",
        "\n",
        "X7 = the repayment status in August, 2005\n",
        "\n",
        "X8 = the repayment status in July, 2005\n",
        "\n",
        "X9 = the repayment status in June, 2005\n",
        "\n",
        "X10 = the repayment status in May, 2005\n",
        "\n",
        "X11 = the repayment status in April, 2005. \n",
        "\n",
        "### X12 - X17: Amount of bill statement (NT dollar) from April to September 2005\n",
        "\n",
        "X12 = amount of bill statement in September, 2005; \n",
        "\n",
        "X13 = amount of bill statement in August, 2005\n",
        "\n",
        ". . .\n",
        "\n",
        "X17 = amount of bill statement in April, 2005. \n",
        "\n",
        "### X18 - X23: Amount of previous payment (NT dollar)\n",
        "X18 = amount paid in September, 2005\n",
        "\n",
        "X19 = amount paid in August, 2005\n",
        "\n",
        ". . .\n",
        "\n",
        "X23 = amount paid in April, 2005. \n"
      ]
    },
    {
      "cell_type": "markdown",
      "metadata": {
        "id": "aM_aIU6UPHe4",
        "colab_type": "text"
      },
      "source": [
        "## EDA\n",
        "\n",
        "In this section we will explore the data set, its shape and its features to get an idea of the data.\n",
        "\n",
        "### Importing packages and the dataset"
      ]
    },
    {
      "cell_type": "code",
      "metadata": {
        "id": "Is0wEkk3LJCt",
        "colab_type": "code",
        "colab": {}
      },
      "source": [
        "import pandas as pd"
      ],
      "execution_count": 0,
      "outputs": []
    },
    {
      "cell_type": "code",
      "metadata": {
        "id": "x_Z7u_9vRC5m",
        "colab_type": "code",
        "colab": {}
      },
      "source": [
        "import matplotlib.pyplot as plt\n",
        "import seaborn as sns"
      ],
      "execution_count": 0,
      "outputs": []
    },
    {
      "cell_type": "code",
      "metadata": {
        "id": "KhmX9KWWyrUW",
        "colab_type": "code",
        "colab": {}
      },
      "source": [
        "url = 'https://raw.githubusercontent.com/reonho/bt2101disrudy/master/card.csv'\n",
        "df = pd.read_csv(url,  header = 1, index_col = 0)\n",
        "# Dataset is now stored in a Pandas Dataframe\n",
        "df0 = df"
      ],
      "execution_count": 0,
      "outputs": []
    },
    {
      "cell_type": "code",
      "metadata": {
        "id": "FhJ2eAxVQhBm",
        "colab_type": "code",
        "outputId": "7f79bb40-f08f-4709-e7d4-1f747bb8af2f",
        "colab": {
          "base_uri": "https://localhost:8080/",
          "height": 255
        }
      },
      "source": [
        "#rename the target variable to \"Y\" for convenience\n",
        "df[\"Y\"] = df[\"default payment next month\"] \n",
        "df = df.drop(\"default payment next month\", axis = 1)\n",
        "df.head()"
      ],
      "execution_count": 0,
      "outputs": [
        {
          "output_type": "execute_result",
          "data": {
            "text/html": [
              "<div>\n",
              "<style scoped>\n",
              "    .dataframe tbody tr th:only-of-type {\n",
              "        vertical-align: middle;\n",
              "    }\n",
              "\n",
              "    .dataframe tbody tr th {\n",
              "        vertical-align: top;\n",
              "    }\n",
              "\n",
              "    .dataframe thead th {\n",
              "        text-align: right;\n",
              "    }\n",
              "</style>\n",
              "<table border=\"1\" class=\"dataframe\">\n",
              "  <thead>\n",
              "    <tr style=\"text-align: right;\">\n",
              "      <th></th>\n",
              "      <th>LIMIT_BAL</th>\n",
              "      <th>SEX</th>\n",
              "      <th>EDUCATION</th>\n",
              "      <th>MARRIAGE</th>\n",
              "      <th>AGE</th>\n",
              "      <th>PAY_0</th>\n",
              "      <th>PAY_2</th>\n",
              "      <th>PAY_3</th>\n",
              "      <th>PAY_4</th>\n",
              "      <th>PAY_5</th>\n",
              "      <th>PAY_6</th>\n",
              "      <th>BILL_AMT1</th>\n",
              "      <th>BILL_AMT2</th>\n",
              "      <th>BILL_AMT3</th>\n",
              "      <th>BILL_AMT4</th>\n",
              "      <th>BILL_AMT5</th>\n",
              "      <th>BILL_AMT6</th>\n",
              "      <th>PAY_AMT1</th>\n",
              "      <th>PAY_AMT2</th>\n",
              "      <th>PAY_AMT3</th>\n",
              "      <th>PAY_AMT4</th>\n",
              "      <th>PAY_AMT5</th>\n",
              "      <th>PAY_AMT6</th>\n",
              "      <th>Y</th>\n",
              "    </tr>\n",
              "    <tr>\n",
              "      <th>ID</th>\n",
              "      <th></th>\n",
              "      <th></th>\n",
              "      <th></th>\n",
              "      <th></th>\n",
              "      <th></th>\n",
              "      <th></th>\n",
              "      <th></th>\n",
              "      <th></th>\n",
              "      <th></th>\n",
              "      <th></th>\n",
              "      <th></th>\n",
              "      <th></th>\n",
              "      <th></th>\n",
              "      <th></th>\n",
              "      <th></th>\n",
              "      <th></th>\n",
              "      <th></th>\n",
              "      <th></th>\n",
              "      <th></th>\n",
              "      <th></th>\n",
              "      <th></th>\n",
              "      <th></th>\n",
              "      <th></th>\n",
              "      <th></th>\n",
              "    </tr>\n",
              "  </thead>\n",
              "  <tbody>\n",
              "    <tr>\n",
              "      <th>1</th>\n",
              "      <td>20000</td>\n",
              "      <td>2</td>\n",
              "      <td>2</td>\n",
              "      <td>1</td>\n",
              "      <td>24</td>\n",
              "      <td>2</td>\n",
              "      <td>2</td>\n",
              "      <td>-1</td>\n",
              "      <td>-1</td>\n",
              "      <td>-2</td>\n",
              "      <td>-2</td>\n",
              "      <td>3913</td>\n",
              "      <td>3102</td>\n",
              "      <td>689</td>\n",
              "      <td>0</td>\n",
              "      <td>0</td>\n",
              "      <td>0</td>\n",
              "      <td>0</td>\n",
              "      <td>689</td>\n",
              "      <td>0</td>\n",
              "      <td>0</td>\n",
              "      <td>0</td>\n",
              "      <td>0</td>\n",
              "      <td>1</td>\n",
              "    </tr>\n",
              "    <tr>\n",
              "      <th>2</th>\n",
              "      <td>120000</td>\n",
              "      <td>2</td>\n",
              "      <td>2</td>\n",
              "      <td>2</td>\n",
              "      <td>26</td>\n",
              "      <td>-1</td>\n",
              "      <td>2</td>\n",
              "      <td>0</td>\n",
              "      <td>0</td>\n",
              "      <td>0</td>\n",
              "      <td>2</td>\n",
              "      <td>2682</td>\n",
              "      <td>1725</td>\n",
              "      <td>2682</td>\n",
              "      <td>3272</td>\n",
              "      <td>3455</td>\n",
              "      <td>3261</td>\n",
              "      <td>0</td>\n",
              "      <td>1000</td>\n",
              "      <td>1000</td>\n",
              "      <td>1000</td>\n",
              "      <td>0</td>\n",
              "      <td>2000</td>\n",
              "      <td>1</td>\n",
              "    </tr>\n",
              "    <tr>\n",
              "      <th>3</th>\n",
              "      <td>90000</td>\n",
              "      <td>2</td>\n",
              "      <td>2</td>\n",
              "      <td>2</td>\n",
              "      <td>34</td>\n",
              "      <td>0</td>\n",
              "      <td>0</td>\n",
              "      <td>0</td>\n",
              "      <td>0</td>\n",
              "      <td>0</td>\n",
              "      <td>0</td>\n",
              "      <td>29239</td>\n",
              "      <td>14027</td>\n",
              "      <td>13559</td>\n",
              "      <td>14331</td>\n",
              "      <td>14948</td>\n",
              "      <td>15549</td>\n",
              "      <td>1518</td>\n",
              "      <td>1500</td>\n",
              "      <td>1000</td>\n",
              "      <td>1000</td>\n",
              "      <td>1000</td>\n",
              "      <td>5000</td>\n",
              "      <td>0</td>\n",
              "    </tr>\n",
              "    <tr>\n",
              "      <th>4</th>\n",
              "      <td>50000</td>\n",
              "      <td>2</td>\n",
              "      <td>2</td>\n",
              "      <td>1</td>\n",
              "      <td>37</td>\n",
              "      <td>0</td>\n",
              "      <td>0</td>\n",
              "      <td>0</td>\n",
              "      <td>0</td>\n",
              "      <td>0</td>\n",
              "      <td>0</td>\n",
              "      <td>46990</td>\n",
              "      <td>48233</td>\n",
              "      <td>49291</td>\n",
              "      <td>28314</td>\n",
              "      <td>28959</td>\n",
              "      <td>29547</td>\n",
              "      <td>2000</td>\n",
              "      <td>2019</td>\n",
              "      <td>1200</td>\n",
              "      <td>1100</td>\n",
              "      <td>1069</td>\n",
              "      <td>1000</td>\n",
              "      <td>0</td>\n",
              "    </tr>\n",
              "    <tr>\n",
              "      <th>5</th>\n",
              "      <td>50000</td>\n",
              "      <td>1</td>\n",
              "      <td>2</td>\n",
              "      <td>1</td>\n",
              "      <td>57</td>\n",
              "      <td>-1</td>\n",
              "      <td>0</td>\n",
              "      <td>-1</td>\n",
              "      <td>0</td>\n",
              "      <td>0</td>\n",
              "      <td>0</td>\n",
              "      <td>8617</td>\n",
              "      <td>5670</td>\n",
              "      <td>35835</td>\n",
              "      <td>20940</td>\n",
              "      <td>19146</td>\n",
              "      <td>19131</td>\n",
              "      <td>2000</td>\n",
              "      <td>36681</td>\n",
              "      <td>10000</td>\n",
              "      <td>9000</td>\n",
              "      <td>689</td>\n",
              "      <td>679</td>\n",
              "      <td>0</td>\n",
              "    </tr>\n",
              "  </tbody>\n",
              "</table>\n",
              "</div>"
            ],
            "text/plain": [
              "    LIMIT_BAL  SEX  EDUCATION  MARRIAGE  ...  PAY_AMT4  PAY_AMT5  PAY_AMT6  Y\n",
              "ID                                       ...                                 \n",
              "1       20000    2          2         1  ...         0         0         0  1\n",
              "2      120000    2          2         2  ...      1000         0      2000  1\n",
              "3       90000    2          2         2  ...      1000      1000      5000  0\n",
              "4       50000    2          2         1  ...      1100      1069      1000  0\n",
              "5       50000    1          2         1  ...      9000       689       679  0\n",
              "\n",
              "[5 rows x 24 columns]"
            ]
          },
          "metadata": {
            "tags": []
          },
          "execution_count": 5
        }
      ]
    },
    {
      "cell_type": "code",
      "metadata": {
        "id": "zcuPyfM86AKj",
        "colab_type": "code",
        "outputId": "89bb2e37-a3ba-43e5-99a7-6917f24acc3f",
        "colab": {
          "base_uri": "https://localhost:8080/",
          "height": 34
        }
      },
      "source": [
        "size = df.shape\n",
        "print(\"Data has {} Columns and {} Rows\".format(size[1], size[0]))"
      ],
      "execution_count": 0,
      "outputs": [
        {
          "output_type": "stream",
          "text": [
            "Data has 24 Columns and 30000 Rows\n"
          ],
          "name": "stdout"
        }
      ]
    },
    {
      "cell_type": "code",
      "metadata": {
        "id": "QVaSnvJP3VbO",
        "colab_type": "code",
        "outputId": "4bf72e64-2d0c-41c3-85b5-3bd6e70920d3",
        "colab": {
          "base_uri": "https://localhost:8080/",
          "height": 34
        }
      },
      "source": [
        "#check for null values\n",
        "df.isnull().any().sum() "
      ],
      "execution_count": 0,
      "outputs": [
        {
          "output_type": "execute_result",
          "data": {
            "text/plain": [
              "0"
            ]
          },
          "metadata": {
            "tags": []
          },
          "execution_count": 7
        }
      ]
    },
    {
      "cell_type": "markdown",
      "metadata": {
        "id": "eVYXnIGH9Zq6",
        "colab_type": "text"
      },
      "source": [
        "There are no null values in the data.\n",
        "\n",
        "We can also calculate some summary statistics for each attribute."
      ]
    },
    {
      "cell_type": "code",
      "metadata": {
        "id": "HgdgYfpR6hUM",
        "colab_type": "code",
        "outputId": "0e6655d1-3872-448d-864b-786a54b7cf70",
        "colab": {
          "base_uri": "https://localhost:8080/",
          "height": 317
        }
      },
      "source": [
        "df.describe()"
      ],
      "execution_count": 0,
      "outputs": [
        {
          "output_type": "execute_result",
          "data": {
            "text/html": [
              "<div>\n",
              "<style scoped>\n",
              "    .dataframe tbody tr th:only-of-type {\n",
              "        vertical-align: middle;\n",
              "    }\n",
              "\n",
              "    .dataframe tbody tr th {\n",
              "        vertical-align: top;\n",
              "    }\n",
              "\n",
              "    .dataframe thead th {\n",
              "        text-align: right;\n",
              "    }\n",
              "</style>\n",
              "<table border=\"1\" class=\"dataframe\">\n",
              "  <thead>\n",
              "    <tr style=\"text-align: right;\">\n",
              "      <th></th>\n",
              "      <th>LIMIT_BAL</th>\n",
              "      <th>SEX</th>\n",
              "      <th>EDUCATION</th>\n",
              "      <th>MARRIAGE</th>\n",
              "      <th>AGE</th>\n",
              "      <th>PAY_0</th>\n",
              "      <th>PAY_2</th>\n",
              "      <th>PAY_3</th>\n",
              "      <th>PAY_4</th>\n",
              "      <th>PAY_5</th>\n",
              "      <th>PAY_6</th>\n",
              "      <th>BILL_AMT1</th>\n",
              "      <th>BILL_AMT2</th>\n",
              "      <th>BILL_AMT3</th>\n",
              "      <th>BILL_AMT4</th>\n",
              "      <th>BILL_AMT5</th>\n",
              "      <th>BILL_AMT6</th>\n",
              "      <th>PAY_AMT1</th>\n",
              "      <th>PAY_AMT2</th>\n",
              "      <th>PAY_AMT3</th>\n",
              "      <th>PAY_AMT4</th>\n",
              "      <th>PAY_AMT5</th>\n",
              "      <th>PAY_AMT6</th>\n",
              "      <th>Y</th>\n",
              "    </tr>\n",
              "  </thead>\n",
              "  <tbody>\n",
              "    <tr>\n",
              "      <th>count</th>\n",
              "      <td>30000.000000</td>\n",
              "      <td>30000.000000</td>\n",
              "      <td>30000.000000</td>\n",
              "      <td>30000.000000</td>\n",
              "      <td>30000.000000</td>\n",
              "      <td>30000.000000</td>\n",
              "      <td>30000.000000</td>\n",
              "      <td>30000.000000</td>\n",
              "      <td>30000.000000</td>\n",
              "      <td>30000.000000</td>\n",
              "      <td>30000.000000</td>\n",
              "      <td>30000.000000</td>\n",
              "      <td>30000.000000</td>\n",
              "      <td>3.000000e+04</td>\n",
              "      <td>30000.000000</td>\n",
              "      <td>30000.000000</td>\n",
              "      <td>30000.000000</td>\n",
              "      <td>30000.000000</td>\n",
              "      <td>3.000000e+04</td>\n",
              "      <td>30000.00000</td>\n",
              "      <td>30000.000000</td>\n",
              "      <td>30000.000000</td>\n",
              "      <td>30000.000000</td>\n",
              "      <td>30000.000000</td>\n",
              "    </tr>\n",
              "    <tr>\n",
              "      <th>mean</th>\n",
              "      <td>167484.322667</td>\n",
              "      <td>1.603733</td>\n",
              "      <td>1.853133</td>\n",
              "      <td>1.551867</td>\n",
              "      <td>35.485500</td>\n",
              "      <td>-0.016700</td>\n",
              "      <td>-0.133767</td>\n",
              "      <td>-0.166200</td>\n",
              "      <td>-0.220667</td>\n",
              "      <td>-0.266200</td>\n",
              "      <td>-0.291100</td>\n",
              "      <td>51223.330900</td>\n",
              "      <td>49179.075167</td>\n",
              "      <td>4.701315e+04</td>\n",
              "      <td>43262.948967</td>\n",
              "      <td>40311.400967</td>\n",
              "      <td>38871.760400</td>\n",
              "      <td>5663.580500</td>\n",
              "      <td>5.921163e+03</td>\n",
              "      <td>5225.68150</td>\n",
              "      <td>4826.076867</td>\n",
              "      <td>4799.387633</td>\n",
              "      <td>5215.502567</td>\n",
              "      <td>0.221200</td>\n",
              "    </tr>\n",
              "    <tr>\n",
              "      <th>std</th>\n",
              "      <td>129747.661567</td>\n",
              "      <td>0.489129</td>\n",
              "      <td>0.790349</td>\n",
              "      <td>0.521970</td>\n",
              "      <td>9.217904</td>\n",
              "      <td>1.123802</td>\n",
              "      <td>1.197186</td>\n",
              "      <td>1.196868</td>\n",
              "      <td>1.169139</td>\n",
              "      <td>1.133187</td>\n",
              "      <td>1.149988</td>\n",
              "      <td>73635.860576</td>\n",
              "      <td>71173.768783</td>\n",
              "      <td>6.934939e+04</td>\n",
              "      <td>64332.856134</td>\n",
              "      <td>60797.155770</td>\n",
              "      <td>59554.107537</td>\n",
              "      <td>16563.280354</td>\n",
              "      <td>2.304087e+04</td>\n",
              "      <td>17606.96147</td>\n",
              "      <td>15666.159744</td>\n",
              "      <td>15278.305679</td>\n",
              "      <td>17777.465775</td>\n",
              "      <td>0.415062</td>\n",
              "    </tr>\n",
              "    <tr>\n",
              "      <th>min</th>\n",
              "      <td>10000.000000</td>\n",
              "      <td>1.000000</td>\n",
              "      <td>0.000000</td>\n",
              "      <td>0.000000</td>\n",
              "      <td>21.000000</td>\n",
              "      <td>-2.000000</td>\n",
              "      <td>-2.000000</td>\n",
              "      <td>-2.000000</td>\n",
              "      <td>-2.000000</td>\n",
              "      <td>-2.000000</td>\n",
              "      <td>-2.000000</td>\n",
              "      <td>-165580.000000</td>\n",
              "      <td>-69777.000000</td>\n",
              "      <td>-1.572640e+05</td>\n",
              "      <td>-170000.000000</td>\n",
              "      <td>-81334.000000</td>\n",
              "      <td>-339603.000000</td>\n",
              "      <td>0.000000</td>\n",
              "      <td>0.000000e+00</td>\n",
              "      <td>0.00000</td>\n",
              "      <td>0.000000</td>\n",
              "      <td>0.000000</td>\n",
              "      <td>0.000000</td>\n",
              "      <td>0.000000</td>\n",
              "    </tr>\n",
              "    <tr>\n",
              "      <th>25%</th>\n",
              "      <td>50000.000000</td>\n",
              "      <td>1.000000</td>\n",
              "      <td>1.000000</td>\n",
              "      <td>1.000000</td>\n",
              "      <td>28.000000</td>\n",
              "      <td>-1.000000</td>\n",
              "      <td>-1.000000</td>\n",
              "      <td>-1.000000</td>\n",
              "      <td>-1.000000</td>\n",
              "      <td>-1.000000</td>\n",
              "      <td>-1.000000</td>\n",
              "      <td>3558.750000</td>\n",
              "      <td>2984.750000</td>\n",
              "      <td>2.666250e+03</td>\n",
              "      <td>2326.750000</td>\n",
              "      <td>1763.000000</td>\n",
              "      <td>1256.000000</td>\n",
              "      <td>1000.000000</td>\n",
              "      <td>8.330000e+02</td>\n",
              "      <td>390.00000</td>\n",
              "      <td>296.000000</td>\n",
              "      <td>252.500000</td>\n",
              "      <td>117.750000</td>\n",
              "      <td>0.000000</td>\n",
              "    </tr>\n",
              "    <tr>\n",
              "      <th>50%</th>\n",
              "      <td>140000.000000</td>\n",
              "      <td>2.000000</td>\n",
              "      <td>2.000000</td>\n",
              "      <td>2.000000</td>\n",
              "      <td>34.000000</td>\n",
              "      <td>0.000000</td>\n",
              "      <td>0.000000</td>\n",
              "      <td>0.000000</td>\n",
              "      <td>0.000000</td>\n",
              "      <td>0.000000</td>\n",
              "      <td>0.000000</td>\n",
              "      <td>22381.500000</td>\n",
              "      <td>21200.000000</td>\n",
              "      <td>2.008850e+04</td>\n",
              "      <td>19052.000000</td>\n",
              "      <td>18104.500000</td>\n",
              "      <td>17071.000000</td>\n",
              "      <td>2100.000000</td>\n",
              "      <td>2.009000e+03</td>\n",
              "      <td>1800.00000</td>\n",
              "      <td>1500.000000</td>\n",
              "      <td>1500.000000</td>\n",
              "      <td>1500.000000</td>\n",
              "      <td>0.000000</td>\n",
              "    </tr>\n",
              "    <tr>\n",
              "      <th>75%</th>\n",
              "      <td>240000.000000</td>\n",
              "      <td>2.000000</td>\n",
              "      <td>2.000000</td>\n",
              "      <td>2.000000</td>\n",
              "      <td>41.000000</td>\n",
              "      <td>0.000000</td>\n",
              "      <td>0.000000</td>\n",
              "      <td>0.000000</td>\n",
              "      <td>0.000000</td>\n",
              "      <td>0.000000</td>\n",
              "      <td>0.000000</td>\n",
              "      <td>67091.000000</td>\n",
              "      <td>64006.250000</td>\n",
              "      <td>6.016475e+04</td>\n",
              "      <td>54506.000000</td>\n",
              "      <td>50190.500000</td>\n",
              "      <td>49198.250000</td>\n",
              "      <td>5006.000000</td>\n",
              "      <td>5.000000e+03</td>\n",
              "      <td>4505.00000</td>\n",
              "      <td>4013.250000</td>\n",
              "      <td>4031.500000</td>\n",
              "      <td>4000.000000</td>\n",
              "      <td>0.000000</td>\n",
              "    </tr>\n",
              "    <tr>\n",
              "      <th>max</th>\n",
              "      <td>1000000.000000</td>\n",
              "      <td>2.000000</td>\n",
              "      <td>6.000000</td>\n",
              "      <td>3.000000</td>\n",
              "      <td>79.000000</td>\n",
              "      <td>8.000000</td>\n",
              "      <td>8.000000</td>\n",
              "      <td>8.000000</td>\n",
              "      <td>8.000000</td>\n",
              "      <td>8.000000</td>\n",
              "      <td>8.000000</td>\n",
              "      <td>964511.000000</td>\n",
              "      <td>983931.000000</td>\n",
              "      <td>1.664089e+06</td>\n",
              "      <td>891586.000000</td>\n",
              "      <td>927171.000000</td>\n",
              "      <td>961664.000000</td>\n",
              "      <td>873552.000000</td>\n",
              "      <td>1.684259e+06</td>\n",
              "      <td>896040.00000</td>\n",
              "      <td>621000.000000</td>\n",
              "      <td>426529.000000</td>\n",
              "      <td>528666.000000</td>\n",
              "      <td>1.000000</td>\n",
              "    </tr>\n",
              "  </tbody>\n",
              "</table>\n",
              "</div>"
            ],
            "text/plain": [
              "            LIMIT_BAL           SEX  ...       PAY_AMT6             Y\n",
              "count    30000.000000  30000.000000  ...   30000.000000  30000.000000\n",
              "mean    167484.322667      1.603733  ...    5215.502567      0.221200\n",
              "std     129747.661567      0.489129  ...   17777.465775      0.415062\n",
              "min      10000.000000      1.000000  ...       0.000000      0.000000\n",
              "25%      50000.000000      1.000000  ...     117.750000      0.000000\n",
              "50%     140000.000000      2.000000  ...    1500.000000      0.000000\n",
              "75%     240000.000000      2.000000  ...    4000.000000      0.000000\n",
              "max    1000000.000000      2.000000  ...  528666.000000      1.000000\n",
              "\n",
              "[8 rows x 24 columns]"
            ]
          },
          "metadata": {
            "tags": []
          },
          "execution_count": 8
        }
      ]
    },
    {
      "cell_type": "markdown",
      "metadata": {
        "id": "W6hhPNl1Slau",
        "colab_type": "text"
      },
      "source": [
        "### Exploring the features"
      ]
    },
    {
      "cell_type": "markdown",
      "metadata": {
        "id": "1Sp2F3gzXX2F",
        "colab_type": "text"
      },
      "source": [
        "**1) Exploring target attribute:**\n"
      ]
    },
    {
      "cell_type": "code",
      "metadata": {
        "id": "DCSEICWwXWgX",
        "colab_type": "code",
        "outputId": "9545da56-f31b-48f2-a271-db0e18677beb",
        "colab": {
          "base_uri": "https://localhost:8080/",
          "height": 51
        }
      },
      "source": [
        "All = df.shape[0]\n",
        "default = df[df['Y'] == 1]\n",
        "nondefault = df[df['Y'] == 0]\n",
        "\n",
        "x = len(default)/All\n",
        "y = len(nondefault)/All\n",
        "\n",
        "print('defaults :',x*100,'%')\n",
        "print('non defaults :',y*100,'%')"
      ],
      "execution_count": 0,
      "outputs": [
        {
          "output_type": "stream",
          "text": [
            "defaults : 22.12 %\n",
            "non defaults : 77.88000000000001 %\n"
          ],
          "name": "stdout"
        }
      ]
    },
    {
      "cell_type": "code",
      "metadata": {
        "id": "W4TWo-gkYTql",
        "colab_type": "code",
        "outputId": "0f7d6129-f6f2-448a-9236-9f9ef7ae1bb4",
        "colab": {
          "base_uri": "https://localhost:8080/",
          "height": 312
        }
      },
      "source": [
        "# plotting target attribute against frequency\n",
        "labels = ['non default','default']\n",
        "classes = pd.value_counts(df['Y'], sort = True)\n",
        "classes.plot(kind = 'bar', rot=0)\n",
        "plt.title(\"Target attribute distribution\")\n",
        "plt.xticks(range(2), labels)\n",
        "plt.xlabel(\"Class\")\n",
        "plt.ylabel(\"Frequency\")"
      ],
      "execution_count": 0,
      "outputs": [
        {
          "output_type": "execute_result",
          "data": {
            "text/plain": [
              "Text(0, 0.5, 'Frequency')"
            ]
          },
          "metadata": {
            "tags": []
          },
          "execution_count": 10
        },
        {
          "output_type": "display_data",
          "data": {
            "image/png": "[encoded data removed]",
            "text/plain": [
              "<Figure size 432x288 with 1 Axes>"
            ]
          },
          "metadata": {
            "tags": []
          }
        }
      ]
    },
    {
      "cell_type": "markdown",
      "metadata": {
        "id": "tysR0WHw4SGU",
        "colab_type": "text"
      },
      "source": [
        "**2) Exploring categorical attributes**\n",
        "\n",
        "Categorical attributes are:\n",
        "- Sex\n",
        "- Education\n",
        "- Marriage"
      ]
    },
    {
      "cell_type": "markdown",
      "metadata": {
        "id": "oxsZ8GTGarMC",
        "colab_type": "text"
      },
      "source": [
        "**2a) Checking formatting for categorical attributes:**\n",
        "\n",
        "Since all categorical attributes are in numerical format, there is no need to convert them into numerical factors."
      ]
    },
    {
      "cell_type": "markdown",
      "metadata": {
        "id": "TSiH-BxjyJ_e",
        "colab_type": "text"
      },
      "source": [
        "**2b) Analysis of categorical data groups**\n",
        "\n",
        "- Sex\n",
        "- Education\n",
        "- Marriage"
      ]
    },
    {
      "cell_type": "code",
      "metadata": {
        "id": "s61SSRII00UB",
        "colab_type": "code",
        "outputId": "69df981f-8c36-43a9-d155-a6553adbba0b",
        "colab": {
          "base_uri": "https://localhost:8080/",
          "height": 323
        }
      },
      "source": [
        "print(df[\"SEX\"].value_counts().apply(lambda r: r/All*100))\n",
        "print(\"--------------------------------------------------------\")\n",
        "print(df[\"EDUCATION\"].value_counts().apply(lambda r: r/All*100))\n",
        "print(\"--------------------------------------------------------\")\n",
        "print(df[\"MARRIAGE\"].value_counts().apply(lambda r: r/All*100))"
      ],
      "execution_count": 0,
      "outputs": [
        {
          "output_type": "stream",
          "text": [
            "2    60.373333\n",
            "1    39.626667\n",
            "Name: SEX, dtype: float64\n",
            "--------------------------------------------------------\n",
            "2    46.766667\n",
            "1    35.283333\n",
            "3    16.390000\n",
            "5     0.933333\n",
            "4     0.410000\n",
            "6     0.170000\n",
            "0     0.046667\n",
            "Name: EDUCATION, dtype: float64\n",
            "--------------------------------------------------------\n",
            "2    53.213333\n",
            "1    45.530000\n",
            "3     1.076667\n",
            "0     0.180000\n",
            "Name: MARRIAGE, dtype: float64\n"
          ],
          "name": "stdout"
        }
      ]
    },
    {
      "cell_type": "markdown",
      "metadata": {
        "id": "Uudv5XE828nb",
        "colab_type": "text"
      },
      "source": [
        "**Conclusion**\n",
        "\n",
        "- Categorical variable SEX does not seem to have any missing/extra groups, and it is separated into Male = 1 and Female = 2\n",
        "- Categorical variable MARRIAGE seems to have unknown group = 0, which could be assumed to be missing data, with other groups being Married = 1, Single = 2, Others = 3\n",
        "- Categorical variable EDUCATION seems to have unknown group = 0,5,6, with other groups being graduate school = 1, university = 2, high school = 3, others = 4"
      ]
    },
    {
      "cell_type": "markdown",
      "metadata": {
        "id": "Z92LGXPKetjL",
        "colab_type": "text"
      },
      "source": [
        "**2c) Analysing the relationship between categorical attributes and default paymment (target attribute)**\n",
        "\n",
        "- Sex\n",
        "- Education\n",
        "- Marriage\n",
        "\n"
      ]
    },
    {
      "cell_type": "code",
      "metadata": {
        "id": "U3IJzhwwe5KK",
        "colab_type": "code",
        "outputId": "cb61e112-a3ec-4a37-c1a0-0ffc9ebcbf89",
        "colab": {
          "base_uri": "https://localhost:8080/",
          "height": 357
        }
      },
      "source": [
        "#proportion of target attribute (for reference)\n",
        "print('Total target attributes:')\n",
        "print('non defaults :',y*100,'%')\n",
        "print('defaults :',x*100,'%')\n",
        "print(\"--------------------------------------------------------\")\n",
        "#analysing default payment with Sex\n",
        "sex_target = pd.crosstab(df[\"Y\"], df[\"SEX\"]).apply(lambda r: r/r.sum()*100).rename(columns = {1: \"Male\", 2: \"Female\"}, index = {0: \"non defaults\", 1: \"defaults\"})\n",
        "print(sex_target)\n",
        "print(\"--------------------------------------------------------\")\n",
        "#analysing default payment with education\n",
        "education_target = pd.crosstab(df[\"Y\"], df[\"EDUCATION\"]).apply(lambda r: r/r.sum()*100).rename(index = {0: \"non defaults\", 1: \"defaults\"})\n",
        "print(education_target)\n",
        "print(\"--------------------------------------------------------\")\n",
        "#analysing default payment with marriage\n",
        "marriage_target = pd.crosstab(df[\"Y\"], df[\"MARRIAGE\"]).apply(lambda r: r/r.sum()*100).rename(columns = {0: \"unknown\",1: \"married\", 2: \"single\", 3: \"others\"},index = {0: \"non defaults\", 1: \"defaults\"})\n",
        "print(marriage_target)"
      ],
      "execution_count": 0,
      "outputs": [
        {
          "output_type": "stream",
          "text": [
            "Total target attributes:\n",
            "non defaults : 77.88000000000001 %\n",
            "defaults : 22.12 %\n",
            "--------------------------------------------------------\n",
            "SEX                Male     Female\n",
            "Y                                 \n",
            "non defaults  75.832773  79.223719\n",
            "defaults      24.167227  20.776281\n",
            "--------------------------------------------------------\n",
            "EDUCATION         0          1          2  ...          4          5          6\n",
            "Y                                          ...                                 \n",
            "non defaults  100.0  80.765234  76.265146  ...  94.308943  93.571429  84.313725\n",
            "defaults        0.0  19.234766  23.734854  ...   5.691057   6.428571  15.686275\n",
            "\n",
            "[2 rows x 7 columns]\n",
            "--------------------------------------------------------\n",
            "MARRIAGE        unknown    married     single     others\n",
            "Y                                                       \n",
            "non defaults  90.740741  76.528296  79.071661  73.993808\n",
            "defaults       9.259259  23.471704  20.928339  26.006192\n"
          ],
          "name": "stdout"
        }
      ]
    },
    {
      "cell_type": "code",
      "metadata": {
        "id": "apWUtjyHPWcE",
        "colab_type": "code",
        "outputId": "a7e40c77-64d1-4ef3-f31c-b7d1b7f24878",
        "colab": {
          "base_uri": "https://localhost:8080/",
          "height": 68
        }
      },
      "source": [
        "# we would like to conduct a chi square test of independence using the contingency tables above\n",
        "import scipy.stats as sp_stat\n",
        "\n",
        "def sigf(p, confidence):\n",
        "  return str(p) + \" *** [Significant at the \" + str(int(confidence*100)) + \"% Level]\" if p < 1-confidence else p\n",
        "\n",
        "#print the p values for the test statistic of each chi-sq test\n",
        "print(\"SEX:\", sigf(sp_stat.chi2_contingency(sex_target)[1], 0.95))\n",
        "print(\"EDUCATION:\", sigf(sp_stat.chi2_contingency(education_target)[1],0.95))\n",
        "print(\"MARRIAGE:\", sigf(sp_stat.chi2_contingency(marriage_target)[1],0.95))"
      ],
      "execution_count": 0,
      "outputs": [
        {
          "output_type": "stream",
          "text": [
            "SEX: 0.6854422910010494\n",
            "EDUCATION: 1.0276815835411287e-08 *** [Significant at the 95% Level]\n",
            "MARRIAGE: 0.016161318279331434 *** [Significant at the 95% Level]\n"
          ],
          "name": "stdout"
        }
      ]
    },
    {
      "cell_type": "markdown",
      "metadata": {
        "id": "kOriUQ0wxbhD",
        "colab_type": "text"
      },
      "source": [
        "**Conclusion**\n",
        "\n",
        "Categorical attributes EDUCATION and MARRIAGE are associated with the target variable.\n",
        "\n",
        "We will omit SEX from our models as it is statistically insignificant.\n",
        "\n",
        "Categorical attributes SEX and MARRIAGE have approximately uniform distributions throughout groups of categories."
      ]
    },
    {
      "cell_type": "markdown",
      "metadata": {
        "id": "77GAylGWnPJO",
        "colab_type": "text"
      },
      "source": [
        "**3) Analysis of Numerical Attributes**\n",
        "\n",
        "The numerical attributes are:\n",
        "   \n",
        "\n",
        "\n"
      ]
    },
    {
      "cell_type": "code",
      "metadata": {
        "id": "HEcCl5Rj-N0T",
        "colab_type": "code",
        "outputId": "a59f7092-366e-47ec-c67b-e18f02d84ac4",
        "colab": {
          "base_uri": "https://localhost:8080/",
          "height": 669
        }
      },
      "source": [
        "#printing numerical attributes\n",
        "pd.DataFrame(df.drop(['SEX', 'EDUCATION', 'MARRIAGE','Y'], axis = 1).columns)"
      ],
      "execution_count": 0,
      "outputs": [
        {
          "output_type": "execute_result",
          "data": {
            "text/html": [
              "<div>\n",
              "<style scoped>\n",
              "    .dataframe tbody tr th:only-of-type {\n",
              "        vertical-align: middle;\n",
              "    }\n",
              "\n",
              "    .dataframe tbody tr th {\n",
              "        vertical-align: top;\n",
              "    }\n",
              "\n",
              "    .dataframe thead th {\n",
              "        text-align: right;\n",
              "    }\n",
              "</style>\n",
              "<table border=\"1\" class=\"dataframe\">\n",
              "  <thead>\n",
              "    <tr style=\"text-align: right;\">\n",
              "      <th></th>\n",
              "      <th>0</th>\n",
              "    </tr>\n",
              "  </thead>\n",
              "  <tbody>\n",
              "    <tr>\n",
              "      <th>0</th>\n",
              "      <td>LIMIT_BAL</td>\n",
              "    </tr>\n",
              "    <tr>\n",
              "      <th>1</th>\n",
              "      <td>AGE</td>\n",
              "    </tr>\n",
              "    <tr>\n",
              "      <th>2</th>\n",
              "      <td>PAY_0</td>\n",
              "    </tr>\n",
              "    <tr>\n",
              "      <th>3</th>\n",
              "      <td>PAY_2</td>\n",
              "    </tr>\n",
              "    <tr>\n",
              "      <th>4</th>\n",
              "      <td>PAY_3</td>\n",
              "    </tr>\n",
              "    <tr>\n",
              "      <th>5</th>\n",
              "      <td>PAY_4</td>\n",
              "    </tr>\n",
              "    <tr>\n",
              "      <th>6</th>\n",
              "      <td>PAY_5</td>\n",
              "    </tr>\n",
              "    <tr>\n",
              "      <th>7</th>\n",
              "      <td>PAY_6</td>\n",
              "    </tr>\n",
              "    <tr>\n",
              "      <th>8</th>\n",
              "      <td>BILL_AMT1</td>\n",
              "    </tr>\n",
              "    <tr>\n",
              "      <th>9</th>\n",
              "      <td>BILL_AMT2</td>\n",
              "    </tr>\n",
              "    <tr>\n",
              "      <th>10</th>\n",
              "      <td>BILL_AMT3</td>\n",
              "    </tr>\n",
              "    <tr>\n",
              "      <th>11</th>\n",
              "      <td>BILL_AMT4</td>\n",
              "    </tr>\n",
              "    <tr>\n",
              "      <th>12</th>\n",
              "      <td>BILL_AMT5</td>\n",
              "    </tr>\n",
              "    <tr>\n",
              "      <th>13</th>\n",
              "      <td>BILL_AMT6</td>\n",
              "    </tr>\n",
              "    <tr>\n",
              "      <th>14</th>\n",
              "      <td>PAY_AMT1</td>\n",
              "    </tr>\n",
              "    <tr>\n",
              "      <th>15</th>\n",
              "      <td>PAY_AMT2</td>\n",
              "    </tr>\n",
              "    <tr>\n",
              "      <th>16</th>\n",
              "      <td>PAY_AMT3</td>\n",
              "    </tr>\n",
              "    <tr>\n",
              "      <th>17</th>\n",
              "      <td>PAY_AMT4</td>\n",
              "    </tr>\n",
              "    <tr>\n",
              "      <th>18</th>\n",
              "      <td>PAY_AMT5</td>\n",
              "    </tr>\n",
              "    <tr>\n",
              "      <th>19</th>\n",
              "      <td>PAY_AMT6</td>\n",
              "    </tr>\n",
              "  </tbody>\n",
              "</table>\n",
              "</div>"
            ],
            "text/plain": [
              "            0\n",
              "0   LIMIT_BAL\n",
              "1         AGE\n",
              "2       PAY_0\n",
              "3       PAY_2\n",
              "4       PAY_3\n",
              "5       PAY_4\n",
              "6       PAY_5\n",
              "7       PAY_6\n",
              "8   BILL_AMT1\n",
              "9   BILL_AMT2\n",
              "10  BILL_AMT3\n",
              "11  BILL_AMT4\n",
              "12  BILL_AMT5\n",
              "13  BILL_AMT6\n",
              "14   PAY_AMT1\n",
              "15   PAY_AMT2\n",
              "16   PAY_AMT3\n",
              "17   PAY_AMT4\n",
              "18   PAY_AMT5\n",
              "19   PAY_AMT6"
            ]
          },
          "metadata": {
            "tags": []
          },
          "execution_count": 14
        }
      ]
    },
    {
      "cell_type": "markdown",
      "metadata": {
        "id": "EUl9bX7k_nxw",
        "colab_type": "text"
      },
      "source": [
        "**Meaning of attributes PAY_0 to PAY_6**\n",
        "\n",
        "The numeric value in these attributes shows the past history of a credit card holder, example -2 means: No consumption of credit card, -1 means that holder paid the full balance, 0 means the use of revolving credit; 1= paymentdelay of one month; 2= payment delay of two months and so on.\n",
        "\n",
        "\n",
        "\n",
        "**3a) Limit Balance**"
      ]
    },
    {
      "cell_type": "code",
      "metadata": {
        "id": "Csm29blenaJT",
        "colab_type": "code",
        "outputId": "e84fd570-639f-4a4b-a57f-af2d000d6730",
        "colab": {
          "base_uri": "https://localhost:8080/",
          "height": 170
        }
      },
      "source": [
        "#Find out min and max value of LIMIT BALANCE\n",
        "print(df[\"LIMIT_BAL\"].describe())"
      ],
      "execution_count": 0,
      "outputs": [
        {
          "output_type": "stream",
          "text": [
            "count      30000.000000\n",
            "mean      167484.322667\n",
            "std       129747.661567\n",
            "min        10000.000000\n",
            "25%        50000.000000\n",
            "50%       140000.000000\n",
            "75%       240000.000000\n",
            "max      1000000.000000\n",
            "Name: LIMIT_BAL, dtype: float64\n"
          ],
          "name": "stdout"
        }
      ]
    },
    {
      "cell_type": "code",
      "metadata": {
        "id": "eHrdunFN7Sj0",
        "colab_type": "code",
        "outputId": "1c087f10-d56c-493a-8f44-45f6c685b8d4",
        "colab": {
          "base_uri": "https://localhost:8080/",
          "height": 313
        }
      },
      "source": [
        "sns.distplot(df[\"LIMIT_BAL\"]).set_title('Distribution of Limit Balance')"
      ],
      "execution_count": 0,
      "outputs": [
        {
          "output_type": "execute_result",
          "data": {
            "text/plain": [
              "Text(0.5, 1.0, 'Distribution of Limit Balance')"
            ]
          },
          "metadata": {
            "tags": []
          },
          "execution_count": 16
        },
        {
          "output_type": "display_data",
          "data": {
            "image/png": "[encoded data removed]",
            "text/plain": [
              "<Figure size 432x288 with 1 Axes>"
            ]
          },
          "metadata": {
            "tags": []
          }
        }
      ]
    },
    {
      "cell_type": "markdown",
      "metadata": {
        "id": "xlDZf8ru7Xp6",
        "colab_type": "text"
      },
      "source": [
        "**3b) Analysis of Age**"
      ]
    },
    {
      "cell_type": "code",
      "metadata": {
        "id": "Iwal1Lhb6ryG",
        "colab_type": "code",
        "outputId": "b4f48898-27c5-4455-d8d1-9e344f3ddb7d",
        "colab": {
          "base_uri": "https://localhost:8080/",
          "height": 300
        }
      },
      "source": [
        "sns.distplot(df.AGE)"
      ],
      "execution_count": 0,
      "outputs": [
        {
          "output_type": "execute_result",
          "data": {
            "text/plain": [
              "<matplotlib.axes._subplots.AxesSubplot at 0x7ff211062470>"
            ]
          },
          "metadata": {
            "tags": []
          },
          "execution_count": 17
        },
        {
          "output_type": "display_data",
          "data": {
            "image/png": "[encoded data removed]",
            "text/plain": [
              "<Figure size 432x288 with 1 Axes>"
            ]
          },
          "metadata": {
            "tags": []
          }
        }
      ]
    },
    {
      "cell_type": "markdown",
      "metadata": {
        "id": "MewzQ1N6e6sf",
        "colab_type": "text"
      },
      "source": [
        "To find out the relationships between the features, we calculate the absolute value of R with the target for all attributes. R = Correlation Coefficient\n"
      ]
    },
    {
      "cell_type": "code",
      "metadata": {
        "id": "awXnqvLOS-wB",
        "colab_type": "code",
        "outputId": "a77b53b8-011e-4f53-b7b7-20d80bbc1777",
        "colab": {
          "base_uri": "https://localhost:8080/",
          "height": 669
        }
      },
      "source": [
        "#absolute correlation coefficient\n",
        "pd.DataFrame(df.drop(['SEX', 'EDUCATION', 'MARRIAGE','Y'], axis=1).apply(lambda x: x.corr(df.Y) if x.corr(df.Y) > 0 else -x.corr(df.Y)).sort_values(ascending = False))"
      ],
      "execution_count": 0,
      "outputs": [
        {
          "output_type": "execute_result",
          "data": {
            "text/html": [
              "<div>\n",
              "<style scoped>\n",
              "    .dataframe tbody tr th:only-of-type {\n",
              "        vertical-align: middle;\n",
              "    }\n",
              "\n",
              "    .dataframe tbody tr th {\n",
              "        vertical-align: top;\n",
              "    }\n",
              "\n",
              "    .dataframe thead th {\n",
              "        text-align: right;\n",
              "    }\n",
              "</style>\n",
              "<table border=\"1\" class=\"dataframe\">\n",
              "  <thead>\n",
              "    <tr style=\"text-align: right;\">\n",
              "      <th></th>\n",
              "      <th>0</th>\n",
              "    </tr>\n",
              "  </thead>\n",
              "  <tbody>\n",
              "    <tr>\n",
              "      <th>PAY_0</th>\n",
              "      <td>0.324794</td>\n",
              "    </tr>\n",
              "    <tr>\n",
              "      <th>PAY_2</th>\n",
              "      <td>0.263551</td>\n",
              "    </tr>\n",
              "    <tr>\n",
              "      <th>PAY_3</th>\n",
              "      <td>0.235253</td>\n",
              "    </tr>\n",
              "    <tr>\n",
              "      <th>PAY_4</th>\n",
              "      <td>0.216614</td>\n",
              "    </tr>\n",
              "    <tr>\n",
              "      <th>PAY_5</th>\n",
              "      <td>0.204149</td>\n",
              "    </tr>\n",
              "    <tr>\n",
              "      <th>PAY_6</th>\n",
              "      <td>0.186866</td>\n",
              "    </tr>\n",
              "    <tr>\n",
              "      <th>LIMIT_BAL</th>\n",
              "      <td>0.153520</td>\n",
              "    </tr>\n",
              "    <tr>\n",
              "      <th>PAY_AMT1</th>\n",
              "      <td>0.072929</td>\n",
              "    </tr>\n",
              "    <tr>\n",
              "      <th>PAY_AMT2</th>\n",
              "      <td>0.058579</td>\n",
              "    </tr>\n",
              "    <tr>\n",
              "      <th>PAY_AMT4</th>\n",
              "      <td>0.056827</td>\n",
              "    </tr>\n",
              "    <tr>\n",
              "      <th>PAY_AMT3</th>\n",
              "      <td>0.056250</td>\n",
              "    </tr>\n",
              "    <tr>\n",
              "      <th>PAY_AMT5</th>\n",
              "      <td>0.055124</td>\n",
              "    </tr>\n",
              "    <tr>\n",
              "      <th>PAY_AMT6</th>\n",
              "      <td>0.053183</td>\n",
              "    </tr>\n",
              "    <tr>\n",
              "      <th>BILL_AMT1</th>\n",
              "      <td>0.019644</td>\n",
              "    </tr>\n",
              "    <tr>\n",
              "      <th>BILL_AMT2</th>\n",
              "      <td>0.014193</td>\n",
              "    </tr>\n",
              "    <tr>\n",
              "      <th>BILL_AMT3</th>\n",
              "      <td>0.014076</td>\n",
              "    </tr>\n",
              "    <tr>\n",
              "      <th>AGE</th>\n",
              "      <td>0.013890</td>\n",
              "    </tr>\n",
              "    <tr>\n",
              "      <th>BILL_AMT4</th>\n",
              "      <td>0.010156</td>\n",
              "    </tr>\n",
              "    <tr>\n",
              "      <th>BILL_AMT5</th>\n",
              "      <td>0.006760</td>\n",
              "    </tr>\n",
              "    <tr>\n",
              "      <th>BILL_AMT6</th>\n",
              "      <td>0.005372</td>\n",
              "    </tr>\n",
              "  </tbody>\n",
              "</table>\n",
              "</div>"
            ],
            "text/plain": [
              "                  0\n",
              "PAY_0      0.324794\n",
              "PAY_2      0.263551\n",
              "PAY_3      0.235253\n",
              "PAY_4      0.216614\n",
              "PAY_5      0.204149\n",
              "PAY_6      0.186866\n",
              "LIMIT_BAL  0.153520\n",
              "PAY_AMT1   0.072929\n",
              "PAY_AMT2   0.058579\n",
              "PAY_AMT4   0.056827\n",
              "PAY_AMT3   0.056250\n",
              "PAY_AMT5   0.055124\n",
              "PAY_AMT6   0.053183\n",
              "BILL_AMT1  0.019644\n",
              "BILL_AMT2  0.014193\n",
              "BILL_AMT3  0.014076\n",
              "AGE        0.013890\n",
              "BILL_AMT4  0.010156\n",
              "BILL_AMT5  0.006760\n",
              "BILL_AMT6  0.005372"
            ]
          },
          "metadata": {
            "tags": []
          },
          "execution_count": 18
        }
      ]
    },
    {
      "cell_type": "markdown",
      "metadata": {
        "id": "C6c_Gz6wUrJ8",
        "colab_type": "text"
      },
      "source": [
        "We observe that the \"repayment status\" attributes are the most highly correlated with the target variable and we would expect them to be more significant in predicting credit default. In fact the later the status, the more correlated it is.\n",
        "\n",
        "The least correlated attributes are the bill amounts.\n",
        "\n",
        "We can also generate a correlation matrix (heatmap) to see which features are the most correlated with each other."
      ]
    },
    {
      "cell_type": "code",
      "metadata": {
        "id": "C2Mg6Zi_Q_rf",
        "colab_type": "code",
        "outputId": "a06ab39f-82c5-43a7-cc4f-a267b2a967f9",
        "colab": {
          "base_uri": "https://localhost:8080/",
          "height": 964
        }
      },
      "source": [
        "f = plt.figure(figsize=(19, 15))\n",
        "plt.matshow(df.corr(), fignum=f.number)\n",
        "plt.xticks(range(df.shape[1]), df.columns, fontsize=14, rotation=45)\n",
        "plt.yticks(range(df.shape[1]), df.columns, fontsize=14)\n",
        "cb = plt.colorbar()\n",
        "cb.ax.tick_params(labelsize=14)\n",
        "plt.title('Correlation Matrix', fontsize=16)"
      ],
      "execution_count": 0,
      "outputs": [
        {
          "output_type": "execute_result",
          "data": {
            "text/plain": [
              "Text(0.5, 1.05, 'Correlation Matrix')"
            ]
          },
          "metadata": {
            "tags": []
          },
          "execution_count": 19
        },
        {
          "output_type": "display_data",
          "data": {
            "image/png": "[encoded data removed]",
            "text/plain": [
              "<Figure size 1368x1080 with 2 Axes>"
            ]
          },
          "metadata": {
            "tags": []
          }
        }
      ]
    },
    {
      "cell_type": "markdown",
      "metadata": {
        "id": "gXQQgn7kU0Uc",
        "colab_type": "text"
      },
      "source": [
        "The heatmap reveals that the payment and billed amounts across the 5 months are highly correlated with each other.  Highly Correlated factors should be removed before carrying out any regression to prevent multicollinearity."
      ]
    },
    {
      "cell_type": "markdown",
      "metadata": {
        "id": "usBpD2aFLDDz",
        "colab_type": "text"
      },
      "source": [
        "- Linear regression\n",
        "- Scatterplot matrix\n",
        "- Boxplot matrix"
      ]
    },
    {
      "cell_type": "markdown",
      "metadata": {
        "id": "AQBksEyEf4Sf",
        "colab_type": "text"
      },
      "source": [
        "## Data Preprocessing\n"
      ]
    },
    {
      "cell_type": "markdown",
      "metadata": {
        "id": "AG82bczx53gl",
        "colab_type": "text"
      },
      "source": [
        "???\n",
        "1. get rid of unknown attributes\n",
        "2. normalise\n",
        "3. pca?\n"
      ]
    },
    {
      "cell_type": "markdown",
      "metadata": {
        "id": "mbhlIlQzZz7c",
        "colab_type": "text"
      },
      "source": [
        "## Model Selection\n",
        "\n",
        "In this part, we will fit machine learning models learnt in BT2101 to this classification problem, and pick the model that can produce the best results.\n",
        "\n",
        "We will be attempting to fit the following models:\n",
        "- K-Nearest Neighbour\n",
        "- Support Vector Machine\n",
        "- Decision Tree \n",
        "- Naive Bayes Classifier\n",
        "- Logistic Regression\n",
        "- Neural Network\n",
        "\n",
        "We will then try to improve performance by ensembling i.e. Random Forest.\n"
      ]
    },
    {
      "cell_type": "code",
      "metadata": {
        "id": "cdg_TpPwZyua",
        "colab_type": "code",
        "colab": {}
      },
      "source": [
        "#using kfold to create train test splits\n",
        "import sklearn.model_selection as skm\n",
        "kf = skm.KFold(10)"
      ],
      "execution_count": 0,
      "outputs": []
    },
    {
      "cell_type": "code",
      "metadata": {
        "id": "VOB68z_hM1jW",
        "colab_type": "code",
        "colab": {}
      },
      "source": [
        "#using holdout sampling for train test split\n",
        "ft = df.drop(\"Y\", axis = 1)\n",
        "target = df[\"Y\"]\n",
        "X_train,X_test,y_train,y_test = skm.train_test_split(ft,target,test_size=0.20)"
      ],
      "execution_count": 0,
      "outputs": []
    },
    {
      "cell_type": "markdown",
      "metadata": {
        "id": "z--cWiwmc0yv",
        "colab_type": "text"
      },
      "source": [
        "### Baseline - Random Classifier (Test)\n",
        "This part aims to provide a benchmark accuracy for our models, i.e. a random classifier with (expected) accuracy of 0.5."
      ]
    },
    {
      "cell_type": "code",
      "metadata": {
        "id": "q_AFJtiNc0LB",
        "colab_type": "code",
        "outputId": "35a03ab9-3b59-459a-e09e-1ca1fea7b96c",
        "colab": {
          "base_uri": "https://localhost:8080/",
          "height": 204
        }
      },
      "source": [
        "from random import *\n",
        "import sklearn.metrics as skmt\n",
        "\n",
        "def rnjezus(i):\n",
        "  return randint(0, 1)\n",
        "\n",
        "# Holdout sampling\n",
        "print(\"Holdout Sample Accuracy:\")\n",
        "print(skmt.classification_report(y_test, list(map(lambda x : rnjezus(x), range(len(X_test))))))\n",
        "\n",
        "# K-fold\n",
        "accuracies = []\n",
        "for train,test in kf.split(df):\n",
        "  prediction = list(map(lambda x : rnjezus(x), test))\n",
        "  actual = list(df[\"Y\"][test+1])\n",
        "  \n",
        "  #By definition the columns correspond to the predicted values and rows are the actuals\n",
        "  conf_mat = skmt.confusion_matrix(actual, prediction)\n",
        "  #print(pd.DataFrame(conf_mat))\n",
        "\n",
        "  accuracies.append(skmt.accuracy_score(actual, prediction))\n",
        "\n",
        "print(\"Kfold Average Accuracy:\", sum(accuracies)/len(accuracies))"
      ],
      "execution_count": 0,
      "outputs": [
        {
          "output_type": "stream",
          "text": [
            "Holdout Sample Accuracy:\n",
            "              precision    recall  f1-score   support\n",
            "\n",
            "           0       0.77      0.49      0.60      4706\n",
            "           1       0.21      0.48      0.29      1294\n",
            "\n",
            "    accuracy                           0.49      6000\n",
            "   macro avg       0.49      0.48      0.44      6000\n",
            "weighted avg       0.65      0.49      0.53      6000\n",
            "\n",
            "Kfold Average Accuracy: 0.4963333333333333\n"
          ],
          "name": "stdout"
        }
      ]
    },
    {
      "cell_type": "markdown",
      "metadata": {
        "id": "PEyK8hM1BHj3",
        "colab_type": "text"
      },
      "source": [
        "### Model 1 - K-Nearest Neighbour"
      ]
    },
    {
      "cell_type": "code",
      "metadata": {
        "id": "mgcr1jtzcVpL",
        "colab_type": "code",
        "outputId": "669a1298-dc36-4dfc-e9fd-298089a515dc",
        "colab": {
          "base_uri": "https://localhost:8080/",
          "height": 54
        }
      },
      "source": [
        "import numpy as np\n",
        "from sklearn.neighbors import KNeighborsClassifier\n",
        "\n",
        "neighbours = np.arange(1,25)\n",
        "train_accuracy =np.empty(len(neighbours))\n",
        "test_accuracy = np.empty(len(neighbours))\n",
        "                                \n",
        "for i,k in enumerate(neighbours):\n",
        "    #Setup a knn classifier with k neighbors\n",
        "    knn=KNeighborsClassifier(n_neighbors=k,algorithm=\"kd_tree\",n_jobs=-1)\n",
        "    \n",
        "    #Fit the model\n",
        "    knn.fit(X_train,y_train.ravel())\n",
        "    \n",
        "    #Compute accuracy on the training set\n",
        "    train_accuracy[i] = knn.score(X_train, y_train.ravel())\n",
        "    \n",
        "    #Compute accuracy on the test set\n",
        "    test_accuracy[i] = knn.score(X_test, y_test.ravel())\n"
      ],
      "execution_count": 0,
      "outputs": [
        {
          "output_type": "execute_result",
          "data": {
            "text/plain": [
              "'                                     \\nfor i,k in enumerate(neighbours):\\n    #Setup a knn classifier with k neighbors\\n    knn=KNeighborsClassifier(n_neighbors=k,algorithm=\"kd_tree\",n_jobs=-1)\\n    \\n    #Fit the model\\n    knn.fit(X_train,y_train.ravel())\\n    \\n    #Compute accuracy on the training set\\n    train_accuracy[i] = knn.score(X_train, y_train.ravel())\\n    \\n    #Compute accuracy on the test set\\n    test_accuracy[i] = knn.score(X_test, y_test.ravel())\\n  '"
            ]
          },
          "metadata": {
            "tags": []
          },
          "execution_count": 23
        }
      ]
    },
    {
      "cell_type": "code",
      "metadata": {
        "id": "OUhQMYZhPKUS",
        "colab_type": "code",
        "outputId": "ea071750-1327-4907-8934-c329416798f2",
        "colab": {
          "base_uri": "https://localhost:8080/",
          "height": 295
        }
      },
      "source": [
        "#Generate plot\n",
        "plt.title('k-NN Varying number of neighbors')\n",
        "plt.plot(neighbours, test_accuracy, label='Testing Accuracy')\n",
        "plt.plot(neighbours, train_accuracy, label='Training accuracy')\n",
        "plt.legend()\n",
        "plt.xlabel('Number of neighbors')\n",
        "plt.ylabel('Accuracy')\n",
        "plt.show()"
      ],
      "execution_count": 0,
      "outputs": [
        {
          "output_type": "display_data",
          "data": {
            "image/png": "[encoded data removed]",
            "text/plain": [
              "<Figure size 432x288 with 1 Axes>"
            ]
          },
          "metadata": {
            "tags": []
          }
        }
      ]
    },
    {
      "cell_type": "code",
      "metadata": {
        "id": "AKG1zgjxPcPE",
        "colab_type": "code",
        "outputId": "eac2fe99-1db9-4160-e3ff-da85bb9c2459",
        "colab": {
          "base_uri": "https://localhost:8080/",
          "height": 170
        }
      },
      "source": [
        "# best k:\n",
        "idx = np.where(test_accuracy == max(test_accuracy))\n",
        "k = neighbours[idx][0]\n",
        "knn = KNeighborsClassifier(n_neighbors=k,algorithm=\"kd_tree\",n_jobs=-1)\n",
        "knn.fit(X_train,y_train.ravel())\n",
        "print(skmt.classification_report(y_test,knn.predict(X_test)))"
      ],
      "execution_count": 0,
      "outputs": [
        {
          "output_type": "stream",
          "text": [
            "              precision    recall  f1-score   support\n",
            "\n",
            "           0       0.80      0.82      0.81      4657\n",
            "           1       0.32      0.30      0.31      1343\n",
            "\n",
            "    accuracy                           0.70      6000\n",
            "   macro avg       0.56      0.56      0.56      6000\n",
            "weighted avg       0.69      0.70      0.70      6000\n",
            "\n"
          ],
          "name": "stdout"
        }
      ]
    },
    {
      "cell_type": "code",
      "metadata": {
        "id": "0LZH_AAXUL72",
        "colab_type": "code",
        "colab": {}
      },
      "source": [
        "#ROC for KNN"
      ],
      "execution_count": 0,
      "outputs": []
    },
    {
      "cell_type": "markdown",
      "metadata": {
        "id": "H89tM6NvaN17",
        "colab_type": "text"
      },
      "source": [
        "### Model 2 - Support Vector Machine\n"
      ]
    },
    {
      "cell_type": "code",
      "metadata": {
        "id": "lQ87GlTfTTsp",
        "colab_type": "code",
        "colab": {}
      },
      "source": [
        "from sklearn import svm\n",
        "\n",
        "#Linear classifier with cost function = 1\n",
        "l_svm_clf = svm.SVC(C = 1, kernel = 'linear')\n",
        "# the following line takes forever\n",
        "l_svm_clf.fit(X_train, y_train) \n",
        "\n",
        "r_svm_clf = svm.SVC(C= 1, kernel = 'rbf')\n",
        "\n"
      ],
      "execution_count": 0,
      "outputs": []
    },
    {
      "cell_type": "markdown",
      "metadata": {
        "id": "iCxBcin11EI8",
        "colab_type": "text"
      },
      "source": [
        "### Model 3 - Decision Trees\n"
      ]
    },
    {
      "cell_type": "code",
      "metadata": {
        "id": "3LfxfeMZ1Kol",
        "colab_type": "code",
        "colab": {}
      },
      "source": [
        ""
      ],
      "execution_count": 0,
      "outputs": []
    }
  ]
}